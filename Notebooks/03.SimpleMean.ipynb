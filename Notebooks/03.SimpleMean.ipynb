{
 "cells": [
  {
   "cell_type": "markdown",
   "metadata": {},
   "source": [
    "# Tutorial 3: Estimating a Simple Mean\n",
    "\n",
    "In this notebook we will set up the *simplest possible inference problem* and solve it with the same algorithm, but while storing the data in two different places: RAM, and a database.\n",
    "\n",
    "Suppose we have a catalog of stars, each one with an ID and a measured distance. We will assume that they belong to a single population lying at the same distance, and that they are standard candles. Our model has only one parameter, the mean distance to the population.\n",
    "\n",
    "Goals:\n",
    "\n",
    "* Simulate a stellar population, and generate an observed distance dataset\n",
    "* Load the data in to memory and infer the mean distance \n",
    "* Create a simple database and store the data in it\n",
    "* Load the data from the database and infer the mean distance\n",
    "\n",
    "### Requirements\n",
    "\n",
    "You will need to install `sqlalchemy`.\n"
   ]
  },
  {
   "cell_type": "code",
   "execution_count": null,
   "metadata": {
    "collapsed": true
   },
   "outputs": [],
   "source": [
    "import numpy as np"
   ]
  },
  {
   "cell_type": "markdown",
   "metadata": {},
   "source": [
    "Make some relevant imports."
   ]
  },
  {
   "cell_type": "code",
   "execution_count": 2,
   "metadata": {
    "collapsed": true
   },
   "outputs": [],
   "source": [
    "import sqlalchemy as sq\n",
    "from sqlalchemy.ext.declarative import declarative_base\n",
    "from sqlalchemy.orm import sessionmaker\n",
    "from sqlalchemy.sql import func"
   ]
  },
  {
   "cell_type": "markdown",
   "metadata": {},
   "source": [
    "## Probability Theory\n",
    "\n",
    "We have measured distances $d_k$ for each star $k$. We are looking for the posterior PDF for the mean distance $\\mu$:\n",
    "\n",
    "${\\rm Pr}(\\mu | \\boldsymbol{d}) = {\\rm Pr}(\\mu) \\prod_k {\\rm Pr}(d_k | \\mu)$\n",
    "\n",
    "We will assign a uniform prior for $\\mu$ and etc etc etc We're just going to take the arithmetic mean of $d$ and call it $\\mu$."
   ]
  },
  {
   "cell_type": "markdown",
   "metadata": {},
   "source": [
    "## Simulating a Stellar Population"
   ]
  },
  {
   "cell_type": "code",
   "execution_count": 3,
   "metadata": {
    "collapsed": true
   },
   "outputs": [],
   "source": [
    "class StellarPopulation(object):\n",
    "    \"\"\"\n",
    "    Simulate a population of stars, all with the same distance.\n",
    "    \"\"\"\n",
    "    def __init__(self, distance):\n",
    "        \"\"\"\n",
    "        Instantiate a StellarPopulation object.\n",
    "        \n",
    "        Parameters\n",
    "        ----------\n",
    "        distance : float\n",
    "            Scalar distance to the cluster of stars, in kpc\n",
    "        \"\"\"\n",
    "        self.distance = distance \n",
    "        return\n",
    "    \n",
    "    def generate(self, N=1000,rms_error=0.1):\n",
    "        \"\"\"\n",
    "        Simulates the observations of N stars.\n",
    "        \n",
    "        Parameters\n",
    "        ----------\n",
    "        N : int\n",
    "            Number of stars to generate\n",
    "        rms_error : float\n",
    "            RMS fractional distance uncertainty\n",
    "        \"\"\"\n",
    "        self.N = N\n",
    "        self.rms_error = rms_error\n",
    "        self.d_obs = self.distance + (self.rms_error * self.distance) * np.random.randn(self.N)\n",
    "        self.id = map(str, range(self.N))\n",
    "        return\n",
    "    \n",
    "    def estimate_mean_distance(self):\n",
    "        \"\"\"\n",
    "        Estimate the mean of the observed stellar distances, and return this as well as the wallclock time taken.\n",
    "        \n",
    "        Returns\n",
    "        -------\n",
    "        mu : float\n",
    "            Estimated mean distance in kpc\n",
    "        time : float\n",
    "            Wallclock time in milliseconds\n",
    "        \"\"\"\n",
    "        import time as wallclock\n",
    "        start = wallclock.time()\n",
    "        mu = np.mean(self.d_obs)\n",
    "        end = wallclock.time()\n",
    "        time = (end-start) * 1e3\n",
    "        return mu, time"
   ]
  },
  {
   "cell_type": "code",
   "execution_count": 4,
   "metadata": {
    "collapsed": false
   },
   "outputs": [],
   "source": [
    "cluster = StellarPopulation(3.0)\n",
    "cluster.generate(100000)"
   ]
  },
  {
   "cell_type": "code",
   "execution_count": 5,
   "metadata": {
    "collapsed": false
   },
   "outputs": [
    {
     "name": "stdout",
     "output_type": "stream",
     "text": [
      "Estimated mean distance =  2.99960990232\n",
      "Wallclock time spent =  0.3 milliseconds\n"
     ]
    }
   ],
   "source": [
    "mu, time = cluster.estimate_mean_distance()\n",
    "print \"Estimated mean distance = \", mu\n",
    "print \"Wallclock time spent = \", np.round(time,1), \"milliseconds\""
   ]
  },
  {
   "cell_type": "markdown",
   "metadata": {
    "collapsed": true
   },
   "source": [
    "## Setting Up Database"
   ]
  },
  {
   "cell_type": "code",
   "execution_count": 6,
   "metadata": {
    "collapsed": false
   },
   "outputs": [],
   "source": [
    "Base = declarative_base()"
   ]
  },
  {
   "cell_type": "code",
   "execution_count": 7,
   "metadata": {
    "collapsed": false
   },
   "outputs": [],
   "source": [
    "class PopulationTable(Base):\n",
    "    __tablename__ = 'population'\n",
    "    \n",
    "    #Define columns like we did in the last notebook\n",
    "    id = sq.Column(sq.Integer, primary_key=True)\n",
    "    distance = sq.Column(sq.Float, nullable=False)\n",
    "    \n",
    "class StarTable(Base):\n",
    "    __tablename__ = 'star'\n",
    "    \n",
    "    #Again define columns like above. These columns\n",
    "    #are normal python instance attributes.\n",
    "    id = sq.Column(sq.Integer, primary_key=True)\n",
    "    object_id = sq.Column(sq.Integer, sq.ForeignKey(\"population.id\"), nullable=False)\n",
    "    distance = sq.Column(sq.Float, nullable=False)"
   ]
  },
  {
   "cell_type": "code",
   "execution_count": 8,
   "metadata": {
    "collapsed": true
   },
   "outputs": [],
   "source": [
    "dbfile = 'mean.db'\n",
    "\n",
    "try: os.remove(dbfile)\n",
    "except: pass"
   ]
  },
  {
   "cell_type": "code",
   "execution_count": 9,
   "metadata": {
    "collapsed": true
   },
   "outputs": [],
   "source": [
    "engine = sq.create_engine('sqlite:///'+dbfile)\n",
    "Base.metadata.create_all(engine)\n",
    "\n",
    "Base.metadata.bind = engine\n",
    "DBSession = sessionmaker(bind=engine)\n",
    "session = DBSession()"
   ]
  },
  {
   "cell_type": "markdown",
   "metadata": {},
   "source": [
    "## Inserting Data"
   ]
  },
  {
   "cell_type": "code",
   "execution_count": 10,
   "metadata": {
    "collapsed": false
   },
   "outputs": [],
   "source": [
    "cluster_db = PopulationTable(distance=3.0)\n",
    "session.add(cluster_db)"
   ]
  },
  {
   "cell_type": "code",
   "execution_count": 11,
   "metadata": {
    "collapsed": false
   },
   "outputs": [],
   "source": [
    "for d in cluster.d_obs:\n",
    "    star = StarTable(object_id=0, distance=d)\n",
    "    session.add(star)\n",
    "    \n",
    "session.commit()"
   ]
  },
  {
   "cell_type": "markdown",
   "metadata": {},
   "source": [
    "# Load Data and Infer Mean"
   ]
  },
  {
   "cell_type": "code",
   "execution_count": 15,
   "metadata": {
    "collapsed": false
   },
   "outputs": [
    {
     "name": "stdout",
     "output_type": "stream",
     "text": [
      "Estimated mean distance =  (2.9997514303065937,)\n",
      "Wallclock time spent =  0.5 milliseconds\n"
     ]
    }
   ],
   "source": [
    "import time as wallclock\n",
    "start = wallclock.time()\n",
    "\n",
    "obj = session.query(func.avg(StarTable.distance)).filter(StarTable.object_id == 0)\n",
    "\n",
    "end = wallclock.time()\n",
    "time = (end-start) * 1e3\n",
    "\n",
    "print \"Estimated mean distance = \", obj.all()[0]\n",
    "\n",
    "print \"Wallclock time spent = \", np.round(time,1), \"milliseconds\""
   ]
  }
 ],
 "metadata": {
  "kernelspec": {
   "display_name": "Python 2",
   "language": "python",
   "name": "python2"
  },
  "language_info": {
   "codemirror_mode": {
    "name": "ipython",
    "version": 2
   },
   "file_extension": ".py",
   "mimetype": "text/x-python",
   "name": "python",
   "nbconvert_exporter": "python",
   "pygments_lexer": "ipython2",
   "version": "2.7.10"
  }
 },
 "nbformat": 4,
 "nbformat_minor": 0
}
